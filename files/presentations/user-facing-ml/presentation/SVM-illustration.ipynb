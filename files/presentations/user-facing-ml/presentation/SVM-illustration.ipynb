{
 "cells": [
  {
   "cell_type": "code",
   "execution_count": 1,
   "metadata": {},
   "outputs": [
    {
     "name": "stdout",
     "output_type": "stream",
     "text": [
      "Populating the interactive namespace from numpy and matplotlib\n"
     ]
    }
   ],
   "source": [
    "%pylab inline\n",
    "from sklearn.svm import LinearSVC\n",
    "try:\n",
    "    import seaborn as sns\n",
    "    sns.set(style=\"darkgrid\")\n",
    "except:\n",
    "    pass"
   ]
  },
  {
   "cell_type": "code",
   "execution_count": 2,
   "metadata": {},
   "outputs": [
    {
     "data": {
      "image/png": "[encoded data removed]",
      "text/plain": [
       "<Figure size 432x288 with 1 Axes>"
      ]
     },
     "metadata": {},
     "output_type": "display_data"
    }
   ],
   "source": [
    "x = np.array([[36.3], [36.4], [36.6],  [37.0], [38.0], [39.0]])\n",
    "y = np.array([0, 0, 0, 1, 1, 1])\n",
    "svc = LinearSVC(dual=False, C=2.0**31).fit(x, y)\n",
    "assert np.all(svc.predict(x) == y)\n",
    "\n",
    "plt.plot(x[y == 0][:,:1], np.zeros(np.sum(y == 0)), \"bo\")  # negative\n",
    "plt.plot(x[y == 1][:,:1], np.zeros(np.sum(y == 1)), \"ro\")  # positive\n",
    "middle = (-svc.intercept_[0] / svc.coef_)[0]\n",
    "assert 36.8 - 1.0e-6 <  middle and middle < 36.8 + 1.0e-6\n",
    "plt.plot(middle, [0], \"go\")  # \"hyperplane\"\n",
    "\n",
    "x_test = np.array([[36.5,], middle - 1.0e-6, middle + 1.0e-6, [38.7]])\n",
    "y_test = svc.predict(x_test)\n",
    "\n",
    "plt.plot(x_test[y_test == 0][:,:1], np.repeat(1, np.sum(y_test == 0)), \"bo\")  # negative\n",
    "plt.plot(x_test[y_test == 1][:,:1], np.repeat(0.5, np.sum(y_test == 1)), \"ro\")  # positive\n",
    "plt.show()"
   ]
  },
  {
   "cell_type": "code",
   "execution_count": 3,
   "metadata": {},
   "outputs": [
    {
     "data": {
      "image/png": "[encoded data removed]",
      "text/plain": [
       "<Figure size 432x288 with 1 Axes>"
      ]
     },
     "metadata": {},
     "output_type": "display_data"
    }
   ],
   "source": [
    "x = np.array([[34.4], [35.9], [36.3], [36.4], [36.6],  [37.0], [38.0], [39.0]])\n",
    "y = np.array([1, 1, 0, 0, 0, 1, 1, 1])\n",
    "svc = LinearSVC(dual=False, C=2.0**31).fit(x, y)\n",
    "\n",
    "plt.plot(x[y == 0][:,:1], np.zeros(np.sum(y == 0)), \"bo\")  # negative\n",
    "plt.plot(x[y == 1][:,:1], np.zeros(np.sum(y == 1)), \"ro\")  # positive\n",
    "middle = (-svc.intercept_[0] / svc.coef_)[0]\n",
    "plt.plot(middle, [0], \"go\")  # \"hyperplane\"\n",
    "\n",
    "x_test = np.array([[34.0], [35.0], [36.0], [36.25], [36.5], [38.7]])\n",
    "y_test = svc.predict(x_test)\n",
    "\n",
    "plt.plot(x_test[y_test == 0][:,:1], np.repeat(1, np.sum(y_test == 0)), \"bo\")  # negative\n",
    "plt.plot(x_test[y_test == 1][:,:1], np.repeat(0.5, np.sum(y_test == 1)), \"ro\")  # positive\n",
    "plt.show()"
   ]
  },
  {
   "cell_type": "code",
   "execution_count": 4,
   "metadata": {},
   "outputs": [
    {
     "data": {
      "image/png": "[encoded data removed]",
      "text/plain": [
       "<Figure size 432x288 with 1 Axes>"
      ]
     },
     "metadata": {},
     "output_type": "display_data"
    }
   ],
   "source": [
    "def kernel_trick(x):\n",
    "    return np.column_stack((x, (x - 36.6)**2))\n",
    "\n",
    "x = np.array([[34.4], [35.9], [36.3], [36.4], [36.6],  [37.0], [38.0], [39.0]])\n",
    "y = np.array([1, 1, 0, 0, 0, 1, 1, 1])\n",
    "\n",
    "x = kernel_trick(x)\n",
    "\n",
    "svc = LinearSVC(dual=False, C=2.0**31).fit(x, y)\n",
    "assert np.all(svc.predict(x) == y)\n",
    "\n",
    "plt.plot(x[y == 0][:,:1], np.zeros(np.sum(y == 0)), \"bo\")  # negative\n",
    "plt.plot(x[y == 1][:,:1], np.zeros(np.sum(y == 1)), \"ro\")  # positive\n",
    "#middle = (-svc.intercept_[0] / svc.coef_)[0]\n",
    "#plt.plot(middle, [0], \"go\")  # \"hyperplane\"\n",
    "\n",
    "x_test = np.array([[34.0], [35.0], [36.0], [36.25], [36.5], [38.7]])\n",
    "x_test = kernel_trick(x_test)\n",
    "\n",
    "y_test = svc.predict(x_test)\n",
    "\n",
    "plt.plot(x_test[y_test == 0][:,:1], np.repeat(1, np.sum(y_test == 0)), \"bo\")  # negative\n",
    "plt.plot(x_test[y_test == 1][:,:1], np.repeat(0.5, np.sum(y_test == 1)), \"ro\")  # positive\n",
    "plt.show()"
   ]
  }
 ],
 "metadata": {
  "kernelspec": {
   "display_name": "Python 3",
   "language": "python",
   "name": "python3"
  },
  "language_info": {
   "codemirror_mode": {
    "name": "ipython",
    "version": 3
   },
   "file_extension": ".py",
   "mimetype": "text/x-python",
   "name": "python",
   "nbconvert_exporter": "python",
   "pygments_lexer": "ipython3",
   "version": "3.7.6"
  }
 },
 "nbformat": 4,
 "nbformat_minor": 4
}
